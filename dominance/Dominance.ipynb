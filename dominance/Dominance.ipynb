{
 "cells": [
  {
   "cell_type": "code",
   "execution_count": 10,
   "metadata": {
    "collapsed": true
   },
   "outputs": [],
   "source": [
    "from nltk.corpus import wordnet as wn\n",
    "import os\n",
    "from collections import Counter"
   ]
  },
  {
   "cell_type": "code",
   "execution_count": 5,
   "metadata": {},
   "outputs": [
    {
     "data": {
      "text/plain": [
       "True"
      ]
     },
     "execution_count": 5,
     "metadata": {},
     "output_type": "execute_result"
    }
   ],
   "source": [
    "index_sense_path = os.path.join(str(wn.root), 'index.sense')\n",
    "os.path.exists(index_sense_path)"
   ]
  },
  {
   "cell_type": "code",
   "execution_count": 19,
   "metadata": {},
   "outputs": [
    {
     "data": {
      "text/plain": [
       "206941"
      ]
     },
     "execution_count": 19,
     "metadata": {},
     "output_type": "execute_result"
    }
   ],
   "source": [
    "sensekey2rank = dict()\n",
    "with open(index_sense_path) as infile:\n",
    "    for line in infile: \n",
    "        fields = line.strip().split()\n",
    "        sensekey, offset, rank, freq = fields\n",
    "        \n",
    "        sensekey2rank[sensekey] = int(rank)\n",
    "\n",
    "len(sensekey2rank)"
   ]
  },
  {
   "cell_type": "code",
   "execution_count": 21,
   "metadata": {},
   "outputs": [
    {
     "data": {
      "text/plain": [
       "14485"
      ]
     },
     "execution_count": 21,
     "metadata": {},
     "output_type": "execute_result"
    }
   ],
   "source": [
    "206941 - (155287 + 26896 + 10273)"
   ]
  },
  {
   "cell_type": "code",
   "execution_count": 18,
   "metadata": {},
   "outputs": [
    {
     "name": "stdout",
     "output_type": "stream",
     "text": [
      "1 155287 155287 75.04\n",
      "2 26896 182183 88.04\n",
      "3 10273 192456 93.0\n",
      "4 5096 197552 95.46\n",
      "5 2920 200472 96.87\n",
      "6 1776 202248 97.73\n",
      "7 1176 203424 98.3\n",
      "8 790 204214 98.68\n",
      "9 608 204822 98.98\n",
      "10 444 205266 99.19\n",
      "11 319 205585 99.34\n",
      "12 230 205815 99.46\n",
      "13 178 205993 99.54\n",
      "14 132 206125 99.61\n",
      "15 108 206233 99.66\n",
      "16 83 206316 99.7\n",
      "17 68 206384 99.73\n",
      "18 55 206439 99.76\n",
      "19 52 206491 99.78\n",
      "20 49 206540 99.81\n",
      "21 44 206584 99.83\n",
      "22 38 206622 99.85\n",
      "23 34 206656 99.86\n",
      "24 32 206688 99.88\n",
      "25 28 206716 99.89\n",
      "26 23 206739 99.9\n",
      "27 20 206759 99.91\n",
      "28 17 206776 99.92\n",
      "29 16 206792 99.93\n",
      "30 15 206807 99.94\n",
      "31 13 206820 99.94\n",
      "32 13 206833 99.95\n",
      "33 12 206845 99.95\n",
      "34 11 206856 99.96\n",
      "35 11 206867 99.96\n",
      "36 10 206877 99.97\n",
      "37 7 206884 99.97\n",
      "38 7 206891 99.98\n",
      "39 7 206898 99.98\n",
      "40 7 206905 99.98\n",
      "41 6 206911 99.99\n",
      "42 4 206915 99.99\n",
      "43 3 206918 99.99\n",
      "44 3 206921 99.99\n",
      "45 2 206923 99.99\n",
      "46 2 206925 99.99\n",
      "47 2 206927 99.99\n",
      "48 2 206929 99.99\n",
      "49 2 206931 100.0\n",
      "50 1 206932 100.0\n",
      "51 1 206933 100.0\n",
      "52 1 206934 100.0\n",
      "53 1 206935 100.0\n",
      "54 1 206936 100.0\n",
      "55 1 206937 100.0\n",
      "56 1 206938 100.0\n",
      "57 1 206939 100.0\n",
      "58 1 206940 100.0\n",
      "59 1 206941 100.0\n"
     ]
    }
   ],
   "source": [
    "total = len(sensekey2rank)\n",
    "current_total = 0\n",
    "\n",
    "freqs = Counter(sensekey2rank.values())\n",
    "\n",
    "for rank, freq in sorted(freqs.items()):\n",
    "    \n",
    "    current_total += freq\n",
    "    perc = 100 * (current_total / total)\n",
    "    print(rank, freq, current_total, round(perc, 2))"
   ]
  },
  {
   "cell_type": "code",
   "execution_count": null,
   "metadata": {
    "collapsed": true
   },
   "outputs": [],
   "source": []
  }
 ],
 "metadata": {
  "kernelspec": {
   "display_name": "Python 3",
   "language": "python",
   "name": "python3"
  },
  "language_info": {
   "codemirror_mode": {
    "name": "ipython",
    "version": 3
   },
   "file_extension": ".py",
   "mimetype": "text/x-python",
   "name": "python",
   "nbconvert_exporter": "python",
   "pygments_lexer": "ipython3",
   "version": "3.6.3"
  }
 },
 "nbformat": 4,
 "nbformat_minor": 2
}
