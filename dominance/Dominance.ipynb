{
 "cells": [
  {
   "cell_type": "code",
   "execution_count": 1,
   "metadata": {
    "collapsed": true
   },
   "outputs": [],
   "source": [
    "from nltk.corpus import wordnet as wn\n",
    "import os\n",
    "import utils\n",
    "from collections import Counter, defaultdict"
   ]
  },
  {
   "cell_type": "code",
   "execution_count": 2,
   "metadata": {},
   "outputs": [
    {
     "data": {
      "text/plain": [
       "True"
      ]
     },
     "execution_count": 2,
     "metadata": {},
     "output_type": "execute_result"
    }
   ],
   "source": [
    "index_sense_path = os.path.join(str(wn.root), 'index.sense')\n",
    "sc_path = 'WSD_Training_Corpora/SemCor/semcor.gold.key.txt'\n",
    "#sc_omsti_path = 'WSD_Training_Corpora/SemCor+OMSTI/semcor+omsti.gold.key.txt'\n",
    "os.path.exists(index_sense_path)"
   ]
  },
  {
   "cell_type": "code",
   "execution_count": 3,
   "metadata": {},
   "outputs": [
    {
     "name": "stdout",
     "output_type": "stream",
     "text": [
      "number of sensekeys 206941\n"
     ]
    }
   ],
   "source": [
    "sensekey2rank = utils.get_sensekey2rank(index_sense_path)\n",
    "print('number of sensekeys', len(sensekey2rank))"
   ]
  },
  {
   "cell_type": "code",
   "execution_count": 4,
   "metadata": {},
   "outputs": [
    {
     "name": "stdout",
     "output_type": "stream",
     "text": [
      "number of ranks 35\n",
      "total amount of sensekeys annotations: 226695\n",
      "total polysemous annotations 189223\n"
     ]
    }
   ],
   "source": [
    "rank2sensekey2freq, \\\n",
    "total_sensekey_annotations, \\\n",
    "total_polysemous_annotations= utils.get_sensekey_freq(sc_path, sensekey2rank)\n",
    "print('number of ranks', len(rank2sensekey2freq))\n",
    "print('total amount of sensekeys annotations:', total_sensekey_annotations)      \n",
    "print('total polysemous annotations', total_polysemous_annotations)"
   ]
  },
  {
   "cell_type": "code",
   "execution_count": 5,
   "metadata": {},
   "outputs": [
    {
     "name": "stdout",
     "output_type": "stream",
     "text": [
      "35\n"
     ]
    }
   ],
   "source": [
    "rank2info = utils.get_rank2info(rank2sensekey2freq)\n",
    "print(len(rank2info))"
   ]
  },
  {
   "cell_type": "code",
   "execution_count": 6,
   "metadata": {},
   "outputs": [
    {
     "data": {
      "text/plain": [
       "dict_keys([1, 2, 3, 4, 5, 6, 7, 8, 9, 10, 11, 12, 13, 14, 15, 16, 17, 18, 19, 20, 21, 22, 23, 24, 25, 26, 27, 28, 29, 30, 31, 32, 33, 34, 35])"
      ]
     },
     "execution_count": 6,
     "metadata": {},
     "output_type": "execute_result"
    }
   ],
   "source": [
    "rank2info.keys()"
   ]
  },
  {
   "cell_type": "code",
   "execution_count": 13,
   "metadata": {},
   "outputs": [
    {
     "name": "stdout",
     "output_type": "stream",
     "text": [
      "4.36\n"
     ]
    }
   ],
   "source": [
    "#senseranks = {1,2,3}\n",
    "senseranks = {4,5,6,7, 8, 9, 10, 11, 12, 13, 14, 15, 16, 17, 18, 19, 20, 21, 22, 23, 24, 25, 26, 27, 28, 29, 30, 31, 32, 33, 34, 35}\n",
    "number_of_annotations = 0 \n",
    "number_of_sensekeys = 0\n",
    "\n",
    "for senserank in senseranks:\n",
    "    \n",
    "    info = rank2info[senserank]\n",
    "    \n",
    "    number_of_sensekeys += info[0]\n",
    "    number_of_annotations += info[2]\n",
    "\n",
    "print(round(number_of_annotations / number_of_sensekeys, 2))"
   ]
  },
  {
   "cell_type": "code",
   "execution_count": null,
   "metadata": {
    "collapsed": true
   },
   "outputs": [],
   "source": []
  }
 ],
 "metadata": {
  "kernelspec": {
   "display_name": "Python 3",
   "language": "python",
   "name": "python3"
  },
  "language_info": {
   "codemirror_mode": {
    "name": "ipython",
    "version": 3
   },
   "file_extension": ".py",
   "mimetype": "text/x-python",
   "name": "python",
   "nbconvert_exporter": "python",
   "pygments_lexer": "ipython3",
   "version": "3.6.3"
  }
 },
 "nbformat": 4,
 "nbformat_minor": 2
}
